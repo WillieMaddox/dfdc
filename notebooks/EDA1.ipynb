{
 "cells": [
  {
   "cell_type": "markdown",
   "metadata": {},
   "source": []
  },
  {
   "cell_type": "code",
   "execution_count": 1,
   "metadata": {},
   "outputs": [],
   "source": [
    "import os\n",
    "import sys\n",
    "import time\n",
    "import json\n",
    "import glob\n",
    "import subprocess\n",
    "from multiprocessing import Pool, cpu_count\n",
    "from concurrent.futures import ProcessPoolExecutor\n",
    "from tqdm.notebook import tqdm\n",
    "import torch\n",
    "import cv2 as cv\n",
    "from PIL import Image\n",
    "import numpy as np\n",
    "import pandas as pd\n",
    "from numba import njit\n",
    "%matplotlib inline\n",
    "from matplotlib import pyplot as plt\n",
    "import librosa\n",
    "import librosa.display\n",
    "\n",
    "from dfdc.utils import fuzzy_join\n",
    "from dfdc.utils import fuzzy_diff\n",
    "from dfdc.dataset_utils import fraction2float\n",
    "from dfdc.dataset_utils import fraction2tuple\n",
    "from dfdc.dataset_utils import search_for_record\n",
    "from dfdc.dataset_utils import create_metadata_master_raw\n",
    "%reload_ext autoreload\n",
    "%autoreload 2"
   ]
  },
  {
   "cell_type": "code",
   "execution_count": 2,
   "metadata": {},
   "outputs": [],
   "source": [
    "def extract_metadata(path, file):\n",
    "    cap = cv.VideoCapture(os.path.join(path, file))\n",
    "    ret, frame = cap.read()\n",
    "    fps = cap.get(cv.CAP_PROP_FPS)\n",
    "    frame_count = cap.get(cv.CAP_PROP_FRAME_COUNT)\n",
    "    cap.release()\n",
    "    return frame.shape, int(frame_count), int(frame_count/fps)\n",
    "\n",
    "def extract_metadata2(path, files):\n",
    "    frame_size_list = []\n",
    "    frame_count_list = []\n",
    "    duration_list = []\n",
    "    for file in tqdm(files):\n",
    "        shape, frame_count, duration = extract_metadata(path, file)\n",
    "        frame_size_list.append(shape)\n",
    "        frame_count_list.append(frame_count)\n",
    "        duration_list.append(duration)\n",
    "\n",
    "    meta_df = pd.DataFrame(data={'frame_shape':frame_size_list, 'frame_count':frame_count_list, 'duration':duration_list}, index=files)\n",
    "    return meta_df"
   ]
  },
  {
   "cell_type": "code",
   "execution_count": 3,
   "metadata": {},
   "outputs": [],
   "source": [
    "label = {'FAKE':1, 'REAL':0}"
   ]
  },
  {
   "cell_type": "code",
   "execution_count": 4,
   "metadata": {},
   "outputs": [],
   "source": [
    "# filenames = glob.glob('/kaggle/input/deepfake-detection-challenge/test_videos/*.mp4')\n",
    "data_dir = '/media/Aorus/DATA/dfdc'\n",
    "meta_dir = os.path.join(data_dir, 'metadata', 'ffprobe')\n",
    "if not os.path.exists(meta_dir):\n",
    "    os.makedirs(meta_dir)"
   ]
  },
  {
   "cell_type": "code",
   "execution_count": 5,
   "metadata": {},
   "outputs": [
    {
     "name": "stdout",
     "output_type": "stream",
     "text": [
      "119146\n"
     ]
    }
   ],
   "source": [
    "def write_metadata(infile):\n",
    "    outfile = os.path.join(meta_dir, os.path.basename(infile).replace('.mp4', '.json'))\n",
    "    if os.path.exists(outfile):\n",
    "        return\n",
    "    command = f\"ffprobe -v error -print_format json -show_format -show_streams {infile} > {outfile}\"\n",
    "    subprocess.call(command, shell=True)\n",
    "\n",
    "filenames = []\n",
    "for i in range(50):\n",
    "    train_dir = os.path.join(data_dir, f'dfdc_train_part_{i}')\n",
    "    filenames += [os.path.join(train_dir, f) for f in os.listdir(train_dir) if f.endswith('.mp4')]\n",
    "print(len(filenames))"
   ]
  },
  {
   "cell_type": "code",
   "execution_count": null,
   "metadata": {},
   "outputs": [],
   "source": [
    "with ProcessPoolExecutor() as executor:\n",
    "    for _ in tqdm(executor.map(write_metadata, filenames), total=len(filenames)):\n",
    "        pass"
   ]
  },
  {
   "cell_type": "code",
   "execution_count": 5,
   "metadata": {},
   "outputs": [],
   "source": [
    "metadata_raw = create_metadata_master_raw(data_dir)"
   ]
  },
  {
   "cell_type": "code",
   "execution_count": 6,
   "metadata": {},
   "outputs": [],
   "source": [
    "df = pd.DataFrame.from_dict(metadata_raw, orient='index')\n",
    "df.to_csv('full_raw_metadata.csv')"
   ]
  },
  {
   "cell_type": "code",
   "execution_count": 7,
   "metadata": {},
   "outputs": [],
   "source": [
    "df = pd.read_csv('full_raw_metadata.csv', low_memory=False)"
   ]
  },
  {
   "cell_type": "code",
   "execution_count": 7,
   "metadata": {},
   "outputs": [
    {
     "data": {
      "text/plain": [
       "(119146, 21)"
      ]
     },
     "execution_count": 7,
     "metadata": {},
     "output_type": "execute_result"
    }
   ],
   "source": [
    "df.shape"
   ]
  },
  {
   "cell_type": "code",
   "execution_count": 8,
   "metadata": {},
   "outputs": [
    {
     "data": {
      "text/html": [
       "<div>\n",
       "<style scoped>\n",
       "    .dataframe tbody tr th:only-of-type {\n",
       "        vertical-align: middle;\n",
       "    }\n",
       "\n",
       "    .dataframe tbody tr th {\n",
       "        vertical-align: top;\n",
       "    }\n",
       "\n",
       "    .dataframe thead th {\n",
       "        text-align: right;\n",
       "    }\n",
       "</style>\n",
       "<table border=\"1\" class=\"dataframe\">\n",
       "  <thead>\n",
       "    <tr style=\"text-align: right;\">\n",
       "      <th></th>\n",
       "      <th>label</th>\n",
       "      <th>split</th>\n",
       "      <th>original</th>\n",
       "      <th>zipfile_id</th>\n",
       "      <th>format_start_time</th>\n",
       "      <th>format_duration</th>\n",
       "      <th>format_size</th>\n",
       "      <th>format_bit_rate</th>\n",
       "      <th>video_width</th>\n",
       "      <th>video_height</th>\n",
       "      <th>...</th>\n",
       "      <th>video_r_frame_rate</th>\n",
       "      <th>video_duration_ts</th>\n",
       "      <th>video_duration</th>\n",
       "      <th>video_nb_frames</th>\n",
       "      <th>audio_sample_rate</th>\n",
       "      <th>audio_start_pts</th>\n",
       "      <th>audio_start_time</th>\n",
       "      <th>audio_duration_ts</th>\n",
       "      <th>audio_duration</th>\n",
       "      <th>audio_nb_frames</th>\n",
       "    </tr>\n",
       "  </thead>\n",
       "  <tbody>\n",
       "    <tr>\n",
       "      <th>owxbbpjpch.mp4</th>\n",
       "      <td>1</td>\n",
       "      <td>train</td>\n",
       "      <td>wynotylpnm.mp4</td>\n",
       "      <td>0</td>\n",
       "      <td>-0.02322</td>\n",
       "      <td>10.024</td>\n",
       "      <td>8118089</td>\n",
       "      <td>6478921</td>\n",
       "      <td>1080</td>\n",
       "      <td>1920</td>\n",
       "      <td>...</td>\n",
       "      <td>(37461, 1250)</td>\n",
       "      <td>375000</td>\n",
       "      <td>10.010411</td>\n",
       "      <td>300</td>\n",
       "      <td>44100</td>\n",
       "      <td>-1024</td>\n",
       "      <td>-0.02322</td>\n",
       "      <td>442024</td>\n",
       "      <td>10.02322</td>\n",
       "      <td>432</td>\n",
       "    </tr>\n",
       "    <tr>\n",
       "      <th>vpmyeepbep.mp4</th>\n",
       "      <td>0</td>\n",
       "      <td>train</td>\n",
       "      <td>NaN</td>\n",
       "      <td>0</td>\n",
       "      <td>-0.02322</td>\n",
       "      <td>10.024</td>\n",
       "      <td>4287242</td>\n",
       "      <td>3421581</td>\n",
       "      <td>1080</td>\n",
       "      <td>1920</td>\n",
       "      <td>...</td>\n",
       "      <td>(299687, 10000)</td>\n",
       "      <td>3000000</td>\n",
       "      <td>10.010444</td>\n",
       "      <td>300</td>\n",
       "      <td>44100</td>\n",
       "      <td>-1024</td>\n",
       "      <td>-0.02322</td>\n",
       "      <td>442024</td>\n",
       "      <td>10.02322</td>\n",
       "      <td>432</td>\n",
       "    </tr>\n",
       "    <tr>\n",
       "      <th>fzvpbrzssi.mp4</th>\n",
       "      <td>0</td>\n",
       "      <td>train</td>\n",
       "      <td>NaN</td>\n",
       "      <td>0</td>\n",
       "      <td>-0.02322</td>\n",
       "      <td>10.024</td>\n",
       "      <td>12673703</td>\n",
       "      <td>10114687</td>\n",
       "      <td>1080</td>\n",
       "      <td>1920</td>\n",
       "      <td>...</td>\n",
       "      <td>(29969, 1000)</td>\n",
       "      <td>300000</td>\n",
       "      <td>10.010344</td>\n",
       "      <td>300</td>\n",
       "      <td>44100</td>\n",
       "      <td>-1024</td>\n",
       "      <td>-0.02322</td>\n",
       "      <td>442024</td>\n",
       "      <td>10.02322</td>\n",
       "      <td>432</td>\n",
       "    </tr>\n",
       "    <tr>\n",
       "      <th>htorvhbcae.mp4</th>\n",
       "      <td>1</td>\n",
       "      <td>train</td>\n",
       "      <td>wclvkepakb.mp4</td>\n",
       "      <td>0</td>\n",
       "      <td>-0.02322</td>\n",
       "      <td>10.024</td>\n",
       "      <td>12862531</td>\n",
       "      <td>10265387</td>\n",
       "      <td>1080</td>\n",
       "      <td>1920</td>\n",
       "      <td>...</td>\n",
       "      <td>(29969, 1000)</td>\n",
       "      <td>300000</td>\n",
       "      <td>10.010344</td>\n",
       "      <td>300</td>\n",
       "      <td>44100</td>\n",
       "      <td>-1024</td>\n",
       "      <td>-0.02322</td>\n",
       "      <td>442024</td>\n",
       "      <td>10.02322</td>\n",
       "      <td>432</td>\n",
       "    </tr>\n",
       "    <tr>\n",
       "      <th>fckxaqjbxk.mp4</th>\n",
       "      <td>1</td>\n",
       "      <td>train</td>\n",
       "      <td>vpmyeepbep.mp4</td>\n",
       "      <td>0</td>\n",
       "      <td>-0.02322</td>\n",
       "      <td>10.024</td>\n",
       "      <td>4297751</td>\n",
       "      <td>3429968</td>\n",
       "      <td>1080</td>\n",
       "      <td>1920</td>\n",
       "      <td>...</td>\n",
       "      <td>(299687, 10000)</td>\n",
       "      <td>3000000</td>\n",
       "      <td>10.010444</td>\n",
       "      <td>300</td>\n",
       "      <td>44100</td>\n",
       "      <td>-1024</td>\n",
       "      <td>-0.02322</td>\n",
       "      <td>442024</td>\n",
       "      <td>10.02322</td>\n",
       "      <td>432</td>\n",
       "    </tr>\n",
       "  </tbody>\n",
       "</table>\n",
       "<p>5 rows × 21 columns</p>\n",
       "</div>"
      ],
      "text/plain": [
       "                label  split        original  zipfile_id  format_start_time  \\\n",
       "owxbbpjpch.mp4      1  train  wynotylpnm.mp4           0           -0.02322   \n",
       "vpmyeepbep.mp4      0  train             NaN           0           -0.02322   \n",
       "fzvpbrzssi.mp4      0  train             NaN           0           -0.02322   \n",
       "htorvhbcae.mp4      1  train  wclvkepakb.mp4           0           -0.02322   \n",
       "fckxaqjbxk.mp4      1  train  vpmyeepbep.mp4           0           -0.02322   \n",
       "\n",
       "                format_duration  format_size  format_bit_rate  video_width  \\\n",
       "owxbbpjpch.mp4           10.024      8118089          6478921         1080   \n",
       "vpmyeepbep.mp4           10.024      4287242          3421581         1080   \n",
       "fzvpbrzssi.mp4           10.024     12673703         10114687         1080   \n",
       "htorvhbcae.mp4           10.024     12862531         10265387         1080   \n",
       "fckxaqjbxk.mp4           10.024      4297751          3429968         1080   \n",
       "\n",
       "                video_height  ... video_r_frame_rate video_duration_ts  \\\n",
       "owxbbpjpch.mp4          1920  ...      (37461, 1250)            375000   \n",
       "vpmyeepbep.mp4          1920  ...    (299687, 10000)           3000000   \n",
       "fzvpbrzssi.mp4          1920  ...      (29969, 1000)            300000   \n",
       "htorvhbcae.mp4          1920  ...      (29969, 1000)            300000   \n",
       "fckxaqjbxk.mp4          1920  ...    (299687, 10000)           3000000   \n",
       "\n",
       "                video_duration  video_nb_frames  audio_sample_rate  \\\n",
       "owxbbpjpch.mp4       10.010411              300              44100   \n",
       "vpmyeepbep.mp4       10.010444              300              44100   \n",
       "fzvpbrzssi.mp4       10.010344              300              44100   \n",
       "htorvhbcae.mp4       10.010344              300              44100   \n",
       "fckxaqjbxk.mp4       10.010444              300              44100   \n",
       "\n",
       "                audio_start_pts  audio_start_time  audio_duration_ts  \\\n",
       "owxbbpjpch.mp4            -1024          -0.02322             442024   \n",
       "vpmyeepbep.mp4            -1024          -0.02322             442024   \n",
       "fzvpbrzssi.mp4            -1024          -0.02322             442024   \n",
       "htorvhbcae.mp4            -1024          -0.02322             442024   \n",
       "fckxaqjbxk.mp4            -1024          -0.02322             442024   \n",
       "\n",
       "                audio_duration  audio_nb_frames  \n",
       "owxbbpjpch.mp4        10.02322              432  \n",
       "vpmyeepbep.mp4        10.02322              432  \n",
       "fzvpbrzssi.mp4        10.02322              432  \n",
       "htorvhbcae.mp4        10.02322              432  \n",
       "fckxaqjbxk.mp4        10.02322              432  \n",
       "\n",
       "[5 rows x 21 columns]"
      ]
     },
     "execution_count": 8,
     "metadata": {},
     "output_type": "execute_result"
    }
   ],
   "source": [
    "df.head()"
   ]
  },
  {
   "cell_type": "code",
   "execution_count": null,
   "metadata": {},
   "outputs": [],
   "source": [
    "pd.crosstab(df['format_start_time'], df['label'])"
   ]
  },
  {
   "cell_type": "code",
   "execution_count": null,
   "metadata": {},
   "outputs": [],
   "source": [
    "pd.crosstab(df['format_duration'], df['label'])"
   ]
  },
  {
   "cell_type": "code",
   "execution_count": null,
   "metadata": {},
   "outputs": [],
   "source": [
    "pd.crosstab(df['video_nb_frames'], df['label'])"
   ]
  },
  {
   "cell_type": "code",
   "execution_count": null,
   "metadata": {},
   "outputs": [],
   "source": [
    "pd.crosstab(df['video_duration_ts'], df['label'])"
   ]
  },
  {
   "cell_type": "code",
   "execution_count": null,
   "metadata": {},
   "outputs": [],
   "source": [
    "pd.crosstab(df['video_duration'], df['label'])"
   ]
  },
  {
   "cell_type": "code",
   "execution_count": null,
   "metadata": {},
   "outputs": [],
   "source": [
    "pd.crosstab(df['video_time_base'], df['label'])"
   ]
  },
  {
   "cell_type": "code",
   "execution_count": null,
   "metadata": {},
   "outputs": [],
   "source": [
    "pd.crosstab(df['video_codec_time_base'], df['label'])"
   ]
  },
  {
   "cell_type": "code",
   "execution_count": null,
   "metadata": {},
   "outputs": [],
   "source": [
    "pd.crosstab(df['video_r_frame_rate'], df['label'])"
   ]
  },
  {
   "cell_type": "code",
   "execution_count": null,
   "metadata": {},
   "outputs": [],
   "source": [
    "pd.crosstab([df['video_time_base'], df['video_codec_time_base'], df['video_r_frame_rate']], df['label'])"
   ]
  },
  {
   "cell_type": "code",
   "execution_count": 83,
   "metadata": {},
   "outputs": [],
   "source": [
    "df['video_time_base0'] = df['video_time_base'].apply(lambda x: x[0])\n",
    "df['video_time_base1'] = df['video_time_base'].apply(lambda x: x[1])\n",
    "df['video_codec_time_base0'] = df['video_codec_time_base'].apply(lambda x: x[0])\n",
    "df['video_codec_time_base1'] = df['video_codec_time_base'].apply(lambda x: x[1])\n",
    "df['video_r_frame_rate0'] = df['video_r_frame_rate'].apply(lambda x: x[0])\n",
    "df['video_r_frame_rate1'] = df['video_r_frame_rate'].apply(lambda x: x[1])"
   ]
  },
  {
   "cell_type": "code",
   "execution_count": 111,
   "metadata": {},
   "outputs": [],
   "source": [
    "df['video_timing_diff'] = df['video_duration'] * df['video_time_base1'] - df['video_duration_ts']"
   ]
  },
  {
   "cell_type": "code",
   "execution_count": 109,
   "metadata": {},
   "outputs": [],
   "source": [
    "df['video_duration_diff'] = df['video_duration'] - (df['video_r_frame_rate0'] / df['video_r_frame_rate1']) / df['video_nb_frames']"
   ]
  },
  {
   "cell_type": "code",
   "execution_count": null,
   "metadata": {},
   "outputs": [],
   "source": [
    "pd.crosstab(df['video_timing_diff'], df['label'])"
   ]
  },
  {
   "cell_type": "code",
   "execution_count": null,
   "metadata": {},
   "outputs": [],
   "source": [
    "pd.crosstab(df['video_duration_diff'], df['label'])"
   ]
  },
  {
   "cell_type": "code",
   "execution_count": null,
   "metadata": {},
   "outputs": [],
   "source": [
    "df['video_timing_diff'].hist(bins=200)"
   ]
  },
  {
   "cell_type": "code",
   "execution_count": null,
   "metadata": {},
   "outputs": [],
   "source": [
    "sum(df['video_time_base0'] != 1)"
   ]
  },
  {
   "cell_type": "code",
   "execution_count": null,
   "metadata": {},
   "outputs": [],
   "source": [
    "sum(df['video_time_base1'] != df['video_codec_time_base1'])"
   ]
  },
  {
   "cell_type": "code",
   "execution_count": null,
   "metadata": {},
   "outputs": [],
   "source": [
    "sum(df['video_time_base1'] != df['video_r_frame_rate0'])"
   ]
  },
  {
   "cell_type": "code",
   "execution_count": null,
   "metadata": {},
   "outputs": [],
   "source": [
    "sum(df['video_codec_time_base1'] != df['video_r_frame_rate0'])"
   ]
  },
  {
   "cell_type": "code",
   "execution_count": null,
   "metadata": {},
   "outputs": [],
   "source": [
    "sum(df['video_codec_time_base1'] == df['video_r_frame_rate0'] * 2)"
   ]
  },
  {
   "cell_type": "code",
   "execution_count": null,
   "metadata": {
    "scrolled": true
   },
   "outputs": [],
   "source": [
    "sum(df['video_codec_time_base0'] == df['video_r_frame_rate1'])"
   ]
  },
  {
   "cell_type": "code",
   "execution_count": null,
   "metadata": {},
   "outputs": [],
   "source": [
    "sum(df['video_codec_time_base0'] * 2 != df['video_r_frame_rate1'])"
   ]
  },
  {
   "cell_type": "code",
   "execution_count": null,
   "metadata": {},
   "outputs": [],
   "source": [
    "sum((df['video_codec_time_base1'] / df['video_r_frame_rate0']) * (df['video_r_frame_rate1'] / df['video_codec_time_base0']) != 2)"
   ]
  },
  {
   "cell_type": "code",
   "execution_count": null,
   "metadata": {},
   "outputs": [],
   "source": [
    "df2 = df[df['video_codec_time_base0'] * 2 != df['video_r_frame_rate1']]"
   ]
  },
  {
   "cell_type": "code",
   "execution_count": null,
   "metadata": {},
   "outputs": [],
   "source": [
    "pd.crosstab([df2['video_codec_time_base1'], df2['video_r_frame_rate0'], df2['video_time_base1']], df2['label'])"
   ]
  },
  {
   "cell_type": "markdown",
   "metadata": {},
   "source": [
    "Size and aspect ratio"
   ]
  },
  {
   "cell_type": "code",
   "execution_count": null,
   "metadata": {},
   "outputs": [],
   "source": [
    "pd.crosstab(df['video_display_aspect_ratio'], df['label'])"
   ]
  },
  {
   "cell_type": "code",
   "execution_count": null,
   "metadata": {},
   "outputs": [],
   "source": [
    "pd.crosstab(df['video_level'], df['label'])"
   ]
  },
  {
   "cell_type": "code",
   "execution_count": null,
   "metadata": {},
   "outputs": [],
   "source": [
    "pd.crosstab([df['video_level'], df['video_display_aspect_ratio']], df['label'])"
   ]
  },
  {
   "cell_type": "code",
   "execution_count": null,
   "metadata": {},
   "outputs": [],
   "source": [
    "pd.crosstab([df['video_height'], df['video_display_aspect_ratio']], df['label'])"
   ]
  },
  {
   "cell_type": "code",
   "execution_count": null,
   "metadata": {},
   "outputs": [],
   "source": [
    "pd.crosstab([df['video_width'], df['video_display_aspect_ratio']], df['label'])"
   ]
  },
  {
   "cell_type": "code",
   "execution_count": null,
   "metadata": {},
   "outputs": [],
   "source": [
    "pd.crosstab([df['video_width'], df['video_height'], df['video_display_aspect_ratio']], df['label'])"
   ]
  },
  {
   "cell_type": "code",
   "execution_count": null,
   "metadata": {},
   "outputs": [],
   "source": [
    "df['ar_169'] = df['video_display_aspect_ratio'] != '16:9'\n",
    "df['ar_916'] = df['video_display_aspect_ratio'] != '9:16'"
   ]
  },
  {
   "cell_type": "code",
   "execution_count": null,
   "metadata": {},
   "outputs": [],
   "source": [
    "df2 = df[df['ar_169'] == df['ar_916']]"
   ]
  },
  {
   "cell_type": "code",
   "execution_count": null,
   "metadata": {},
   "outputs": [],
   "source": [
    "pd.crosstab(df2['video_display_aspect_ratio'], df2['label'])"
   ]
  },
  {
   "cell_type": "code",
   "execution_count": null,
   "metadata": {},
   "outputs": [],
   "source": [
    "pd.crosstab([df2['video_display_aspect_ratio'], df2['video_height']], df2['label'])"
   ]
  },
  {
   "cell_type": "code",
   "execution_count": null,
   "metadata": {},
   "outputs": [],
   "source": [
    "pd.crosstab([df2['video_display_aspect_ratio'], df2['video_width']], df2['label'])"
   ]
  },
  {
   "cell_type": "code",
   "execution_count": null,
   "metadata": {},
   "outputs": [],
   "source": [
    "pd.crosstab([df2['video_display_aspect_ratio'], df2['video_nb_frames']], df2['label'])"
   ]
  },
  {
   "cell_type": "code",
   "execution_count": null,
   "metadata": {},
   "outputs": [],
   "source": [
    "9/16, 135/278, 1080/2224"
   ]
  },
  {
   "cell_type": "markdown",
   "metadata": {},
   "source": [
    "Audio"
   ]
  },
  {
   "cell_type": "code",
   "execution_count": null,
   "metadata": {},
   "outputs": [],
   "source": [
    "# f = k*(s/N)\n",
    "# f - frequency\n",
    "# k - cycles per window\n",
    "# s - sample_rate\n",
    "# N - FFT window length"
   ]
  },
  {
   "cell_type": "code",
   "execution_count": 115,
   "metadata": {},
   "outputs": [],
   "source": [
    "df['audio_time_base0'] = df['audio_time_base'].apply(lambda x: x[0])\n",
    "df['audio_time_base1'] = df['audio_time_base'].apply(lambda x: x[1])"
   ]
  },
  {
   "cell_type": "code",
   "execution_count": null,
   "metadata": {},
   "outputs": [],
   "source": [
    "sum(df['audio_time_base0'] != 1)"
   ]
  },
  {
   "cell_type": "code",
   "execution_count": null,
   "metadata": {},
   "outputs": [],
   "source": [
    "pd.crosstab(df['audio_sample_rate'], df['label'])"
   ]
  },
  {
   "cell_type": "code",
   "execution_count": null,
   "metadata": {},
   "outputs": [],
   "source": [
    "pd.crosstab(df['audio_start_time'], df['label'])"
   ]
  },
  {
   "cell_type": "code",
   "execution_count": null,
   "metadata": {},
   "outputs": [],
   "source": [
    "pd.crosstab(df['audio_duration_ts'], df['label'])"
   ]
  },
  {
   "cell_type": "code",
   "execution_count": null,
   "metadata": {},
   "outputs": [],
   "source": [
    "pd.crosstab(df['audio_duration'], df['label'])"
   ]
  },
  {
   "cell_type": "code",
   "execution_count": null,
   "metadata": {},
   "outputs": [],
   "source": [
    "pd.crosstab(df['audio_nb_frames'], df['label'])"
   ]
  },
  {
   "cell_type": "code",
   "execution_count": 125,
   "metadata": {},
   "outputs": [
    {
     "data": {
      "text/html": [
       "<div>\n",
       "<style scoped>\n",
       "    .dataframe tbody tr th:only-of-type {\n",
       "        vertical-align: middle;\n",
       "    }\n",
       "\n",
       "    .dataframe tbody tr th {\n",
       "        vertical-align: top;\n",
       "    }\n",
       "\n",
       "    .dataframe thead th {\n",
       "        text-align: right;\n",
       "    }\n",
       "</style>\n",
       "<table border=\"1\" class=\"dataframe\">\n",
       "  <thead>\n",
       "    <tr style=\"text-align: right;\">\n",
       "      <th></th>\n",
       "      <th></th>\n",
       "      <th></th>\n",
       "      <th></th>\n",
       "      <th>label</th>\n",
       "      <th>0</th>\n",
       "      <th>1</th>\n",
       "    </tr>\n",
       "    <tr>\n",
       "      <th>audio_sample_rate</th>\n",
       "      <th>audio_start_time</th>\n",
       "      <th>audio_duration</th>\n",
       "      <th>audio_duration_ts</th>\n",
       "      <th>audio_nb_frames</th>\n",
       "      <th></th>\n",
       "      <th></th>\n",
       "    </tr>\n",
       "  </thead>\n",
       "  <tbody>\n",
       "    <tr>\n",
       "      <th>0</th>\n",
       "      <th>0.000000</th>\n",
       "      <th>0.000000</th>\n",
       "      <th>0</th>\n",
       "      <th>0</th>\n",
       "      <td>13</td>\n",
       "      <td>17</td>\n",
       "    </tr>\n",
       "    <tr>\n",
       "      <th rowspan=\"2\" valign=\"top\">16000</th>\n",
       "      <th rowspan=\"2\" valign=\"top\">-0.064000</th>\n",
       "      <th>0.604000</th>\n",
       "      <th>9664</th>\n",
       "      <th>10</th>\n",
       "      <td>0</td>\n",
       "      <td>1</td>\n",
       "    </tr>\n",
       "    <tr>\n",
       "      <th>10.064000</th>\n",
       "      <th>161024</th>\n",
       "      <th>158</th>\n",
       "      <td>0</td>\n",
       "      <td>5248</td>\n",
       "    </tr>\n",
       "    <tr>\n",
       "      <th>44100</th>\n",
       "      <th>-0.023220</th>\n",
       "      <th>10.023220</th>\n",
       "      <th>442024</th>\n",
       "      <th>432</th>\n",
       "      <td>1905</td>\n",
       "      <td>16568</td>\n",
       "    </tr>\n",
       "    <tr>\n",
       "      <th rowspan=\"3\" valign=\"top\">48000</th>\n",
       "      <th rowspan=\"3\" valign=\"top\">-0.021333</th>\n",
       "      <th>0.562667</th>\n",
       "      <th>27008</th>\n",
       "      <th>27</th>\n",
       "      <td>7</td>\n",
       "      <td>8</td>\n",
       "    </tr>\n",
       "    <tr>\n",
       "      <th>4.578667</th>\n",
       "      <th>219776</th>\n",
       "      <th>215</th>\n",
       "      <td>1</td>\n",
       "      <td>1</td>\n",
       "    </tr>\n",
       "    <tr>\n",
       "      <th>10.021333</th>\n",
       "      <th>481024</th>\n",
       "      <th>470</th>\n",
       "      <td>17228</td>\n",
       "      <td>78149</td>\n",
       "    </tr>\n",
       "  </tbody>\n",
       "</table>\n",
       "</div>"
      ],
      "text/plain": [
       "label                                                                                    0  \\\n",
       "audio_sample_rate audio_start_time audio_duration audio_duration_ts audio_nb_frames          \n",
       "0                  0.000000        0.000000       0                 0                   13   \n",
       "16000             -0.064000        0.604000       9664              10                   0   \n",
       "                                   10.064000      161024            158                  0   \n",
       "44100             -0.023220        10.023220      442024            432               1905   \n",
       "48000             -0.021333        0.562667       27008             27                   7   \n",
       "                                   4.578667       219776            215                  1   \n",
       "                                   10.021333      481024            470              17228   \n",
       "\n",
       "label                                                                                    1  \n",
       "audio_sample_rate audio_start_time audio_duration audio_duration_ts audio_nb_frames         \n",
       "0                  0.000000        0.000000       0                 0                   17  \n",
       "16000             -0.064000        0.604000       9664              10                   1  \n",
       "                                   10.064000      161024            158               5248  \n",
       "44100             -0.023220        10.023220      442024            432              16568  \n",
       "48000             -0.021333        0.562667       27008             27                   8  \n",
       "                                   4.578667       219776            215                  1  \n",
       "                                   10.021333      481024            470              78149  "
      ]
     },
     "execution_count": 125,
     "metadata": {},
     "output_type": "execute_result"
    }
   ],
   "source": [
    "pd.crosstab([df['audio_sample_rate'], df['audio_start_time'], df['audio_duration'], df['audio_duration_ts'], df['audio_nb_frames']], df['label'])"
   ]
  },
  {
   "cell_type": "code",
   "execution_count": null,
   "metadata": {},
   "outputs": [],
   "source": [
    "df['audio_duration_diff'] = df['audio_duration_ts'] - df['audio_duration'] * df['audio_sample_rate']\n",
    "pd.crosstab(df['audio_duration_diff'], df['label'])"
   ]
  },
  {
   "cell_type": "code",
   "execution_count": null,
   "metadata": {},
   "outputs": [],
   "source": [
    "df['audio_start_diff'] = df['audio_start_pts'] - df['audio_start_time'] * df['audio_sample_rate']\n",
    "pd.crosstab(df['audio_start_diff'], df['label'])"
   ]
  },
  {
   "cell_type": "code",
   "execution_count": 127,
   "metadata": {},
   "outputs": [
    {
     "data": {
      "text/html": [
       "<div>\n",
       "<style scoped>\n",
       "    .dataframe tbody tr th:only-of-type {\n",
       "        vertical-align: middle;\n",
       "    }\n",
       "\n",
       "    .dataframe tbody tr th {\n",
       "        vertical-align: top;\n",
       "    }\n",
       "\n",
       "    .dataframe thead th {\n",
       "        text-align: right;\n",
       "    }\n",
       "</style>\n",
       "<table border=\"1\" class=\"dataframe\">\n",
       "  <thead>\n",
       "    <tr style=\"text-align: right;\">\n",
       "      <th>label</th>\n",
       "      <th>0</th>\n",
       "      <th>1</th>\n",
       "    </tr>\n",
       "    <tr>\n",
       "      <th>audio_timing_diff</th>\n",
       "      <th></th>\n",
       "      <th></th>\n",
       "    </tr>\n",
       "  </thead>\n",
       "  <tbody>\n",
       "    <tr>\n",
       "      <th>-0.032</th>\n",
       "      <td>1</td>\n",
       "      <td>1</td>\n",
       "    </tr>\n",
       "    <tr>\n",
       "      <th>-0.032</th>\n",
       "      <td>7</td>\n",
       "      <td>8</td>\n",
       "    </tr>\n",
       "    <tr>\n",
       "      <th>0.000</th>\n",
       "      <td>19146</td>\n",
       "      <td>99983</td>\n",
       "    </tr>\n",
       "  </tbody>\n",
       "</table>\n",
       "</div>"
      ],
      "text/plain": [
       "label                  0      1\n",
       "audio_timing_diff              \n",
       "-0.032                 1      1\n",
       "-0.032                 7      8\n",
       " 0.000             19146  99983"
      ]
     },
     "execution_count": 127,
     "metadata": {},
     "output_type": "execute_result"
    }
   ],
   "source": [
    "df['audio_timing_diff'] = (df['audio_duration_ts'] + df['audio_start_pts']) - (df['audio_duration'] + df['audio_start_time']) * df['audio_sample_rate']\n",
    "pd.crosstab(df['audio_timing_diff'], df['label'])"
   ]
  },
  {
   "cell_type": "code",
   "execution_count": null,
   "metadata": {},
   "outputs": [],
   "source": [
    "df['audio_ts_diff'] = df['audio_duration_ts'] + df['audio_start_pts'] - df['audio_sample_rate'] * 10\n",
    "pd.crosstab(df['audio_ts_diff'], df['label'])"
   ]
  },
  {
   "cell_type": "code",
   "execution_count": null,
   "metadata": {},
   "outputs": [],
   "source": [
    "df['audio_duration_frames_ratio'] = (df['audio_duration_ts'] + df['audio_start_pts']) / (df['audio_nb_frames'])\n",
    "pd.crosstab(df['audio_duration_frames_ratio'], df['label'])"
   ]
  },
  {
   "cell_type": "code",
   "execution_count": null,
   "metadata": {},
   "outputs": [],
   "source": [
    "df['audio_duration_frames_ratio'] = df['audio_duration'] * df['audio_sample_rate'] / (1024 * df['audio_nb_frames'])\n",
    "pd.crosstab(df['audio_duration_frames_ratio'], df['label'])"
   ]
  },
  {
   "cell_type": "code",
   "execution_count": null,
   "metadata": {},
   "outputs": [],
   "source": [
    "af, sr = librosa.load(infile, sr=22050)"
   ]
  },
  {
   "cell_type": "code",
   "execution_count": null,
   "metadata": {},
   "outputs": [],
   "source": [
    "def read_frames(mov_id, grayscale=True):\n",
    "    mp4_dir = df[df.index==mov_id]['mp4_dir'].iloc[0]\n",
    "    movie_path = os.path.join(data_dir, mp4_dir, mov_id)\n",
    "    num_frames = df[df.index==mov_id]['video_nb_frames'].iloc[0]\n",
    "#     frame_shape = df[df.index==mov_id]['frame_shape'].iloc[0]\n",
    "    height = df[df.index==mov_id]['video_height'].iloc[0]\n",
    "    width = df[df.index==mov_id]['video_width'].iloc[0]\n",
    "    \n",
    "    dim = 2 if grayscale else 3\n",
    "    if grayscale:\n",
    "        frames = np.empty((num_frames, height, width), dtype=np.uint8)\n",
    "    else:\n",
    "        frames = np.empty((num_frames, height, width, 3), dtype=np.uint8)\n",
    "    capture = cv.VideoCapture(movie_path)\n",
    "    for i in range(num_frames):\n",
    "        ret, frame = capture.read()\n",
    "        if not ret:\n",
    "            print('bad frame', i)\n",
    "            continue\n",
    "#         print(i, frame.shape)\n",
    "        frame = cv.cvtColor(frame, cv.COLOR_BGR2GRAY if grayscale else cv.COLOR_BGR2RGB)\n",
    "        frames[i] = frame\n",
    "    capture.release()\n",
    "    return frames\n",
    "\n",
    "def splot(fake_frames, orig_frames, i_frame):\n",
    "    fake = fake_frames[i_frame]\n",
    "    orig = orig_frames[i_frame]\n",
    "    img = np.concatenate((fake, orig), axis=1)\n",
    "    plt.imshow(img)\n",
    "    \n",
    "def dplot(fake_frames, orig_frames, i_frame):\n",
    "    fake = fake_frames[i_frame]\n",
    "    orig = orig_frames[i_frame]\n",
    "    img = fuzzy_join(fake, orig)\n",
    "    img = (img * (255.0/np.max(img))).astype('uint8')\n",
    "    plt.imshow(img)\n",
    "    \n",
    "def tplot(fake_frames, orig_frames, i_fake_frame, i_orig_frame):\n",
    "    fake = fake_frames[i_fake_frame]\n",
    "    orig = orig_frames[i_orig_frame]\n",
    "    img = fuzzy_join(fake, orig)\n",
    "    img = (img * (255.0/np.max(img))).astype('uint8')\n",
    "    plt.imshow(img)\n",
    "\n",
    "def sizeof(obj):\n",
    "    \"\"\"https://github.com/mwojnars/nifty/blob/master/util.py\"\"\"\n",
    "    size = sys.getsizeof(obj)\n",
    "    if isinstance(obj, dict): return size + sum(map(sizeof, obj.keys())) + sum(map(sizeof, obj.values()))\n",
    "    if isinstance(obj, (list, tuple, set, frozenset)): return size + sum(map(sizeof, obj))\n",
    "    return size"
   ]
  },
  {
   "cell_type": "code",
   "execution_count": null,
   "metadata": {},
   "outputs": [],
   "source": [
    "# fake_file = 'skfnhumwpn.mp4'\n",
    "# fake_file = 'gobvnzkjaf.mp4'\n",
    "# fake_file = 'ctpexqamtx.mp4'\n",
    "# fake_file = 'ebffuhuesn.mp4'\n",
    "# fake_file = 'tolotyowoy.mp4'\n",
    "# fake_file = 'lymrhwqqyw.mp4'\n",
    "fake_file = 'ahbweevwpv.mp4'\n",
    "fake_interval = 1000 / fraction2float(df[df.index==fake_file]['video_r_frame_rate'].iloc[0])\n",
    "mp4_dir = df[df.index==fake_file]['mp4_dir'].iloc[0]\n",
    "orig_file = df[df.index==fake_file]['original'].iloc[0]\n",
    "orig_interval = 1000 / fraction2float(df[df.index==orig_file]['video_r_frame_rate'].iloc[0])\n",
    "assert fake_interval == orig_interval\n",
    "print(fake_interval)\n",
    "df[df.index==fake_file].T"
   ]
  },
  {
   "cell_type": "code",
   "execution_count": null,
   "metadata": {},
   "outputs": [],
   "source": [
    "extract_metadata(os.path.join(data_dir, mp4_dir), fake_file)"
   ]
  },
  {
   "cell_type": "code",
   "execution_count": null,
   "metadata": {},
   "outputs": [],
   "source": [
    "from IPython.display import Video"
   ]
  },
  {
   "cell_type": "code",
   "execution_count": null,
   "metadata": {},
   "outputs": [],
   "source": [
    "mp4_dir = df[df.index==fake_file]['mp4_dir'].iloc[0]\n",
    "full_file = os.path.join(data_dir, mp4_dir, fake_file)\n",
    "print(full_file)\n",
    "Video(full_file, embed=True)"
   ]
  },
  {
   "cell_type": "code",
   "execution_count": null,
   "metadata": {},
   "outputs": [],
   "source": [
    "fake_frames = read_frames(fake_file)\n",
    "print(fake_file, fake_frames.shape)"
   ]
  },
  {
   "cell_type": "code",
   "execution_count": null,
   "metadata": {},
   "outputs": [],
   "source": [
    "orig_frames = read_frames(orig_file)\n",
    "print(orig_file, orig_frames.shape)"
   ]
  },
  {
   "cell_type": "code",
   "execution_count": null,
   "metadata": {},
   "outputs": [],
   "source": [
    "fakeorig_frames = fuzzy_join(fake_frames[1:], orig_frames[1:])"
   ]
  },
  {
   "cell_type": "code",
   "execution_count": null,
   "metadata": {},
   "outputs": [],
   "source": [
    "dfake_frames = fuzzy_join(fake_frames[:-1], fake_frames[1:])\n",
    "fake_frames = fake_frames[1:]"
   ]
  },
  {
   "cell_type": "code",
   "execution_count": null,
   "metadata": {},
   "outputs": [],
   "source": [
    "dorig_frames = fuzzy_join(orig_frames[:-1], orig_frames[1:])\n",
    "orig_frames = orig_frames[1:]"
   ]
  },
  {
   "cell_type": "code",
   "execution_count": null,
   "metadata": {},
   "outputs": [],
   "source": [
    "fig = plt.figure(figsize=(13, 13))\n",
    "plt.imshow(video[-1,:,:])"
   ]
  },
  {
   "cell_type": "code",
   "execution_count": null,
   "metadata": {},
   "outputs": [],
   "source": [
    "from matplotlib import animation\n",
    "from IPython.display import HTML\n",
    "\n",
    "# np array with shape (frames, height, width, channels)\n",
    "\n",
    "axis = 2 if fake_frames.shape[1] > fake_frames.shape[2] else 1\n",
    "video = np.concatenate((dfake_frames, fake_frames, fakeorig_frames), axis=axis)\n",
    "\n",
    "fig = plt.figure(figsize=(13, 13))\n",
    "im = plt.imshow(video[0,:,:])\n",
    "\n",
    "plt.close() # this is required to not display the generated image\n",
    "\n",
    "def init():\n",
    "    im.set_data(video[0,:,:])\n",
    "\n",
    "def animate(i):\n",
    "    im.set_data(video[i,:,:])\n",
    "    return im\n",
    "\n",
    "anim = animation.FuncAnimation(fig, animate, init_func=init, frames=video.shape[0], interval=fake_interval)\n",
    "HTML(anim.to_html5_video())\n"
   ]
  },
  {
   "cell_type": "code",
   "execution_count": null,
   "metadata": {},
   "outputs": [],
   "source": [
    "assert fake_frames.shape == orig_frames.shape\n",
    "n_frames, *_ = fake_frames.shape"
   ]
  },
  {
   "cell_type": "code",
   "execution_count": null,
   "metadata": {},
   "outputs": [],
   "source": [
    "fuzzdiff = np.zeros((n_frames,))\n",
    "for i in range(n_frames):\n",
    "    fuzzdiff[i] = fuzzy_diff(fake_frames[i], orig_frames[i])"
   ]
  },
  {
   "cell_type": "code",
   "execution_count": null,
   "metadata": {},
   "outputs": [],
   "source": [
    "plt.figure(figsize=(15, 5))\n",
    "plt.plot(fuzzdiff);"
   ]
  },
  {
   "cell_type": "code",
   "execution_count": null,
   "metadata": {},
   "outputs": [],
   "source": [
    "i_frame = np.argmax(fuzzdiff)\n",
    "i_frame"
   ]
  },
  {
   "cell_type": "code",
   "execution_count": null,
   "metadata": {},
   "outputs": [],
   "source": [
    "new_width, new_height = 120, 120\n",
    "fuzzdiff = np.zeros((n_frames,))\n",
    "for i in range(n_frames):\n",
    "    dim = (new_width, new_height)\n",
    "    fake_resized = cv.resize(fake_frames[i], dim, interpolation=cv.INTER_NEAREST)\n",
    "    orig_resized = cv.resize(orig_frames[i], dim, interpolation=cv.INTER_NEAREST)\n",
    "    fuzzdiff[i] = fuzzy_diff(fake_resized, orig_resized)"
   ]
  },
  {
   "cell_type": "code",
   "execution_count": null,
   "metadata": {},
   "outputs": [],
   "source": [
    "plt.figure(figsize=(15, 5))\n",
    "plt.plot(fuzzdiff);"
   ]
  },
  {
   "cell_type": "code",
   "execution_count": null,
   "metadata": {},
   "outputs": [],
   "source": [
    "i_frame = 94"
   ]
  },
  {
   "cell_type": "code",
   "execution_count": null,
   "metadata": {},
   "outputs": [],
   "source": [
    "plt.figure(figsize=(20, 10))\n",
    "splot(fake_frames, orig_frames, i_frame-1)"
   ]
  },
  {
   "cell_type": "code",
   "execution_count": null,
   "metadata": {},
   "outputs": [],
   "source": [
    "plt.figure(figsize=(20, 10))\n",
    "splot(fake_frames, orig_frames, i_frame)"
   ]
  },
  {
   "cell_type": "code",
   "execution_count": null,
   "metadata": {},
   "outputs": [],
   "source": [
    "plt.figure(figsize=(20, 10))\n",
    "splot(fake_frames, orig_frames, i_frame+1)"
   ]
  },
  {
   "cell_type": "code",
   "execution_count": null,
   "metadata": {},
   "outputs": [],
   "source": [
    "plt.figure(figsize=(10, 10))\n",
    "dplot(fake_frames, orig_frames, i_frame)"
   ]
  },
  {
   "cell_type": "code",
   "execution_count": null,
   "metadata": {},
   "outputs": [],
   "source": [
    "i_frame = 96\n",
    "plt.figure(figsize=(10, 10))\n",
    "tplot(fake_frames, fake_frames, i_frame, i_frame+1)"
   ]
  },
  {
   "cell_type": "code",
   "execution_count": null,
   "metadata": {},
   "outputs": [],
   "source": [
    "plt.figure(figsize=(10, 10))\n",
    "tplot(orig_frames, orig_frames, i_frame, i_frame+1)"
   ]
  }
 ],
 "metadata": {
  "kernelspec": {
   "display_name": "Python 3",
   "language": "python",
   "name": "python3"
  },
  "language_info": {
   "codemirror_mode": {
    "name": "ipython",
    "version": 3
   },
   "file_extension": ".py",
   "mimetype": "text/x-python",
   "name": "python",
   "nbconvert_exporter": "python",
   "pygments_lexer": "ipython3",
   "version": "3.6.10"
  }
 },
 "nbformat": 4,
 "nbformat_minor": 2
}
